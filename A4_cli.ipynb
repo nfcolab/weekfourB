{
 "cells": [
  {
   "cell_type": "markdown",
   "id": "d70abc15",
   "metadata": {},
   "source": [
    "# Weelky Assignment 4, Task 1 (Command-Line Interface)"
   ]
  },
  {
   "cell_type": "code",
   "execution_count": null,
   "id": "cbf44503",
   "metadata": {},
   "outputs": [],
   "source": [
    "import cli"
   ]
  },
  {
   "cell_type": "markdown",
   "id": "f04f7111",
   "metadata": {},
   "source": [
    "The file `cli.py` provides us with a dictionary `command_freqs` for different commands and their frequencies and a class `cli` for creating objects that can be used to simulate learning of said commands. Here are the commands and their frequencies. Frequency here means that commands with larger numbers are more frequent and therefore used more often and learned faster. Commands with a small frequency take longer to learn, because they are used less. Note that these numbers are abstract but relative: a command with twice the frequency value will be used twice as often, but these numbers are not probabilities because they do not need to sum up to one."
   ]
  },
  {
   "cell_type": "code",
   "execution_count": null,
   "id": "67dd19d9",
   "metadata": {},
   "outputs": [],
   "source": [
    "cli.command_freqs"
   ]
  },
  {
   "cell_type": "markdown",
   "id": "eeef2daa",
   "metadata": {},
   "source": [
    "The cell below shows how to create a `cli` object and train it for one hour with `command_freqs`. The first parameter is seconds of training, and the second is the disctionary assigning commands to their frequencies. Use `rt()` with a command in the parameter to return the LTM retrieval time of that command, in seconds, at the present stage of learning. Note that because this is a simulation with randomness in selecting the commands, running the cell multiple times will yield a different result."
   ]
  },
  {
   "cell_type": "code",
   "execution_count": null,
   "id": "dc6c7154",
   "metadata": {},
   "outputs": [],
   "source": [
    "my_cli = cli.cli()\n",
    "my_cli.train(60*60, cli.command_freqs) # 60 seconds in a minute, 60 minutes in an hour\n",
    "# The output of the recall time is in seconds\n",
    "print(\"After training, the time to retrieve the command ls is\", my_cli.rt(\"ls\"))"
   ]
  },
  {
   "cell_type": "code",
   "execution_count": null,
   "id": "c5707313",
   "metadata": {},
   "outputs": [],
   "source": [
    "# Here is how you can show the retrieval time of all commands.\n",
    "# Note that these result don't change with reruns, unless you rerun the cell above.\n",
    "for c in cli.command_freqs.keys():\n",
    "    print(c, my_cli.rt(c))"
   ]
  },
  {
   "cell_type": "code",
   "execution_count": null,
   "id": "ca8dfea5",
   "metadata": {},
   "outputs": [],
   "source": [
    "# You can add new commands to the cli by either copying cli.command_freqs, accessing the dictionary directly,\n",
    "# or by going to cli.py and copy-pasting the dictionary definition here.\n",
    "import copy\n",
    "my_commands = copy.copy(cli.command_freqs)\n",
    "my_commands['my_new_command'] = 0.5 # VERY frequent command!\n",
    "my_cli = cli.cli()\n",
    "my_cli.train(60*60, my_commands) # 60 seconds in a minute, 60 minutes in an hour\n",
    "print(\"After training, the time to retrieve the command my_new_command is\", my_cli.rt(\"my_new_command\"))"
   ]
  },
  {
   "cell_type": "code",
   "execution_count": null,
   "id": "5b2c3023",
   "metadata": {},
   "outputs": [],
   "source": [
    "# How about adding the new command only after some training?\n",
    "\n",
    "# Create cli and first train the user for 1 hour\n",
    "my_cli = cli.cli()\n",
    "my_commands = copy.copy(cli.command_freqs)\n",
    "my_cli.train(60*60, my_commands)\n",
    "\n",
    "# Then add the new command. And train again for 1 hour.\n",
    "my_commands['my_new_command'] = 0.5 # VERY frequent command!\n",
    "my_cli.train(60*60, my_commands) \n",
    "print(\"After training, the time to retrieve the command my_new_command is\", my_cli.rt(\"my_new_command\"))"
   ]
  },
  {
   "cell_type": "markdown",
   "id": "83838159",
   "metadata": {},
   "source": [
    "# Important note about noise\n",
    "The model types in commands and learns to use them, with the next command to use being randomly provided, depending on how frequent it is. This introduces stochasticity (randomness) to the model. So, if you for instance run the model for 1 hour and then ask how long did it take to learn `ls`, you will get different results upon repeating it. That's a problem! While understandable feature of the model, it means that a single run of the model does not really provide us with robust information.\n",
    "\n",
    "The solution is to run the model multiple times, collect the results and then aggregate them using some summary statistic. The instruction is to use the mean result from at least 10 models. So, let's look how to do that for `ls`."
   ]
  },
  {
   "cell_type": "code",
   "execution_count": null,
   "id": "7218d789",
   "metadata": {},
   "outputs": [],
   "source": [
    "import numpy as np\n",
    "results = [] # create an empty array\n",
    "for i in range(10): # iterate 10 times\n",
    "    # Always create a new cli instance, train it from the scratch, and save the recall time into results.\n",
    "    my_cli = cli.cli()\n",
    "    my_cli.train(60*60, cli.command_freqs)\n",
    "    results.append(my_cli.rt(\"ls\"))\n",
    "print(\"10 retrieval times (our raw data):\", results)\n",
    "print(\"The average retrieval time is\", np.mean(results))"
   ]
  },
  {
   "cell_type": "markdown",
   "id": "34e3e41b",
   "metadata": {},
   "source": [
    "For these small runs (1 hour of training), there is a lot of variation. For longer runs, the models are more stable. Please be sure to put the whole training section within the `for` loop and always create new objects used in that training, so that you are not carrying over any information between training runs."
   ]
  }
 ],
 "metadata": {
  "kernelspec": {
   "display_name": "Python 3 (ipykernel)",
   "language": "python",
   "name": "python3"
  },
  "language_info": {
   "codemirror_mode": {
    "name": "ipython",
    "version": 3
   },
   "file_extension": ".py",
   "mimetype": "text/x-python",
   "name": "python",
   "nbconvert_exporter": "python",
   "pygments_lexer": "ipython3",
   "version": "3.13.7"
  }
 },
 "nbformat": 4,
 "nbformat_minor": 5
}
