{
 "cells": [
  {
   "cell_type": "code",
   "execution_count": null,
   "id": "77682894",
   "metadata": {},
   "outputs": [],
   "source": [
    "import ui"
   ]
  },
  {
   "cell_type": "code",
   "execution_count": null,
   "id": "079c329b",
   "metadata": {},
   "outputs": [],
   "source": [
    "# You can use this UI for inspiration, but don't directly copy it (make at least some changes!)\n",
    "ui.visualise_UI(ui.big_ui)"
   ]
  },
  {
   "cell_type": "code",
   "execution_count": null,
   "id": "75d58790",
   "metadata": {},
   "outputs": [],
   "source": [
    "# Make the simulated user intermediate, meaning that the position and the color of all elements are recorded\n",
    "# into the LTM, with an activation of -0.75.\n",
    "ui.big_ui.learn_all_elements(\"intermediate\")\n",
    "# The output of the function is in seconds\n",
    "print(\"Recall time for the position or color of any element is\", ui.big_ui.recall_time(-0.75))"
   ]
  },
  {
   "cell_type": "code",
   "execution_count": null,
   "id": "e3eafbfd",
   "metadata": {},
   "outputs": [],
   "source": [
    "# Expert sets the ltm activation of all element features to 1.\n",
    "ui.big_ui.learn_all_elements(\"expert\")\n",
    "print(\"For expert, recall time for the position or color of any element is\", ui.big_ui.recall_time(1))"
   ]
  },
  {
   "cell_type": "code",
   "execution_count": null,
   "id": "db20bb56",
   "metadata": {},
   "outputs": [],
   "source": [
    "# Let's see how that expert finds c3.\n",
    "ui.visualise_exhaustive_guided_search(ui.big_ui, start = \"a1\", target = \"c3\")"
   ]
  },
  {
   "cell_type": "code",
   "execution_count": null,
   "id": "340ee5a0",
   "metadata": {},
   "outputs": [],
   "source": [
    "# What happens if we try fool the expert model?\n",
    "import copy\n",
    "my_ui = copy.deepcopy(ui.big_ui) # make a copy so whenever running this cell, we get a fresh start\n",
    "my_ui.learn_all_elements(\"expert\")\n",
    "my_ui.swap_elements(\"t3\", \"c3\")\n",
    "ui.visualise_exhaustive_guided_search(my_ui, start = \"a1\", target = \"c3\")"
   ]
  },
  {
   "cell_type": "code",
   "execution_count": null,
   "id": "a56b2eab",
   "metadata": {},
   "outputs": [],
   "source": [
    "# What about the salient element that has a unique color?\n",
    "my_ui = copy.deepcopy(ui.big_ui) # make a copy so whenever running this cell, we get a fresh start\n",
    "my_ui.learn_all_elements(\"expert\")\n",
    "my_ui.swap_elements(\"c4\", \"d4\")\n",
    "ui.visualise_exhaustive_guided_search(my_ui, start = \"a1\", target = \"d4\")"
   ]
  }
 ],
 "metadata": {
  "kernelspec": {
   "display_name": "Python 3 (ipykernel)",
   "language": "python",
   "name": "python3"
  },
  "language_info": {
   "codemirror_mode": {
    "name": "ipython",
    "version": 3
   },
   "file_extension": ".py",
   "mimetype": "text/x-python",
   "name": "python",
   "nbconvert_exporter": "python",
   "pygments_lexer": "ipython3",
   "version": "3.13.7"
  }
 },
 "nbformat": 4,
 "nbformat_minor": 5
}
